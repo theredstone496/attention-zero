{
 "cells": [
  {
   "cell_type": "code",
   "execution_count": 1,
   "metadata": {},
   "outputs": [],
   "source": [
    "from moviepy.editor import *\n",
    "import re"
   ]
  },
  {
   "cell_type": "code",
   "execution_count": 2,
   "metadata": {},
   "outputs": [],
   "source": [
    "# clip1 is main, clip2 is distraction\n",
    "clip1 = VideoFileClip(r\"ricardo.mp4\").without_audio()\n",
    "clip2 = VideoFileClip(r\"..\\subway-surfers\\part0new.avi\").without_audio().resize(0.75)"
   ]
  },
  {
   "cell_type": "code",
   "execution_count": 3,
   "metadata": {},
   "outputs": [],
   "source": [
    "cliplist = [clip1]\n",
    "startstop = open(\"startstop.txt\", 'r').read().split('s ')\n",
    "fps2 = clip2.fps\n",
    "\n",
    "for s in startstop:\n",
    "    data = re.split(r'g\\(|,|\\) ', s)\n",
    "\n",
    "    start = int(data[0])/fps2\n",
    "    if (data[3] == ''):\n",
    "        stop = clip1.duration\n",
    "    else:\n",
    "        stop = int(data[3])/fps2\n",
    "\n",
    "    subclip2 = clip2.subclip(0, stop-start)\\\n",
    "                    .set_start(start)\\\n",
    "                    .set_position((int(data[1]) - clip2.w//2, int(data[2]) - clip2.h//2))\n",
    "    cliplist.append(subclip2)"
   ]
  },
  {
   "cell_type": "code",
   "execution_count": 4,
   "metadata": {},
   "outputs": [],
   "source": [
    "video = CompositeVideoClip(cliplist).without_audio()"
   ]
  },
  {
   "cell_type": "code",
   "execution_count": null,
   "metadata": {},
   "outputs": [],
   "source": [
    "video.write_videofile(\"new.mp4\")"
   ]
  },
  {
   "cell_type": "code",
   "execution_count": null,
   "metadata": {},
   "outputs": [],
   "source": []
  }
 ],
 "metadata": {
  "kernelspec": {
   "display_name": "data",
   "language": "python",
   "name": "python3"
  },
  "language_info": {
   "codemirror_mode": {
    "name": "ipython",
    "version": 3
   },
   "file_extension": ".py",
   "mimetype": "text/x-python",
   "name": "python",
   "nbconvert_exporter": "python",
   "pygments_lexer": "ipython3",
   "version": "3.12.0"
  }
 },
 "nbformat": 4,
 "nbformat_minor": 2
}
