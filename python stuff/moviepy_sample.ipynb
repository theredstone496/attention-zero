{
 "cells": [
  {
   "cell_type": "code",
   "execution_count": null,
   "metadata": {},
   "outputs": [],
   "source": [
    "from moviepy.editor import *\n",
    "from random import randint"
   ]
  },
  {
   "cell_type": "code",
   "execution_count": null,
   "metadata": {},
   "outputs": [],
   "source": [
    "# change videos and sizes as desired\n",
    "clip1 = VideoFileClip(r\"Renai Circulation.mp4\").without_audio()\n",
    "clip2 = VideoFileClip(r\"bad apple.mp4\").without_audio().resize(0.5)"
   ]
  },
  {
   "cell_type": "code",
   "execution_count": null,
   "metadata": {},
   "outputs": [],
   "source": [
    "cliplist = [clip1.subclip(0,60)]\n",
    "xlist = [\"left\", \"center\", \"right\"]\n",
    "ylist = [\"top\", \"center\", \"bottom\"]\n",
    "\n",
    "for i in range(0, 60, 2):\n",
    "    subclip2 = clip2.subclip(i, i+2).set_start(i)\n",
    "\n",
    "    randx = randint(0, clip1.w-1 - subclip2.w)\n",
    "    randy = randint(0, clip1.h-1 - subclip2.h)\n",
    "    subclip2 = subclip2.set_position((randx, randy))\n",
    "    \n",
    "    cliplist.append(subclip2)"
   ]
  },
  {
   "cell_type": "code",
   "execution_count": null,
   "metadata": {},
   "outputs": [],
   "source": [
    "video = CompositeVideoClip(cliplist).without_audio()"
   ]
  },
  {
   "cell_type": "code",
   "execution_count": null,
   "metadata": {},
   "outputs": [],
   "source": [
    "video.ipython_display()"
   ]
  },
  {
   "cell_type": "code",
   "execution_count": null,
   "metadata": {},
   "outputs": [],
   "source": []
  }
 ],
 "metadata": {
  "kernelspec": {
   "display_name": "data",
   "language": "python",
   "name": "python3"
  },
  "language_info": {
   "codemirror_mode": {
    "name": "ipython",
    "version": 3
   },
   "file_extension": ".py",
   "mimetype": "text/x-python",
   "name": "python",
   "nbconvert_exporter": "python",
   "pygments_lexer": "ipython3",
   "version": "3.12.0"
  }
 },
 "nbformat": 4,
 "nbformat_minor": 2
}
